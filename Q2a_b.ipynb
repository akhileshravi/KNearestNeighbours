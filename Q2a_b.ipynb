{
 "cells": [
  {
   "cell_type": "code",
   "execution_count": null,
   "metadata": {},
   "outputs": [],
   "source": []
  },
  {
   "cell_type": "code",
   "execution_count": 1,
   "metadata": {},
   "outputs": [],
   "source": [
    "import pandas as pd\n",
    "import numpy as np\n",
    "import sklearn\n",
    "from sklearn.model_selection import train_test_split\n",
    "from sklearn.model_selection import KFold"
   ]
  },
  {
   "cell_type": "code",
   "execution_count": 2,
   "metadata": {},
   "outputs": [],
   "source": [
    "from sklearn.neighbors import KNeighborsRegressor\n",
    "from math import sqrt"
   ]
  },
  {
   "cell_type": "code",
   "execution_count": 3,
   "metadata": {},
   "outputs": [
    {
     "data": {
      "text/plain": [
       "Index(['No', 'X1 transaction date', 'X2 house age',\n",
       "       'X3 distance to the nearest MRT station',\n",
       "       'X4 number of convenience stores', 'X5 latitude', 'X6 longitude',\n",
       "       'Y house price of unit area'],\n",
       "      dtype='object')"
      ]
     },
     "execution_count": 3,
     "metadata": {},
     "output_type": "execute_result"
    }
   ],
   "source": [
    "realdf = pd.read_csv('Real estate valuation data set.csv')\n",
    "realdf.keys()"
   ]
  },
  {
   "cell_type": "code",
   "execution_count": 4,
   "metadata": {},
   "outputs": [],
   "source": [
    "X = realdf.copy()\n",
    "y = realdf['Y house price of unit area']\n",
    "del X['Y house price of unit area']"
   ]
  },
  {
   "cell_type": "code",
   "execution_count": 5,
   "metadata": {},
   "outputs": [],
   "source": [
    "train_X, test_X, train_Y, test_Y = train_test_split(X, y, test_size=0.2, random_state=42)"
   ]
  },
  {
   "cell_type": "code",
   "execution_count": 6,
   "metadata": {},
   "outputs": [],
   "source": [
    "kf = KFold(n_splits=5,shuffle=True,random_state=42)"
   ]
  },
  {
   "cell_type": "code",
   "execution_count": 7,
   "metadata": {},
   "outputs": [],
   "source": [
    "def find_rmse(test, pred):\n",
    "    return sqrt(np.sum((test-pred)**2))"
   ]
  },
  {
   "cell_type": "code",
   "execution_count": 8,
   "metadata": {},
   "outputs": [],
   "source": [
    "def k_opt(train_X, test_X, train_Y, test_Y, kf):\n",
    "    l = 5\n",
    "    errors = [0]*l\n",
    "    for k in range(1,l+1):\n",
    "        neighb = KNeighborsRegressor(n_neighbors=k)\n",
    "        neighb.fit(train_X, train_Y)\n",
    "        #for i in range(len(test_Y)):\n",
    "        pred = neighb.predict(test_X)\n",
    "        rmse = find_rmse(test_Y, pred)\n",
    "        errors[k-1] = rmse\n",
    "    min_index = 0\n",
    "    for i in range(l):\n",
    "        if errors[i] < errors[min_index]:\n",
    "            min_index = i\n",
    "    return min_index+1"
   ]
  },
  {
   "cell_type": "code",
   "execution_count": 9,
   "metadata": {},
   "outputs": [
    {
     "data": {
      "text/plain": [
       "'for train_index, test_index in kf.split(X):\\n   print(\"TRAIN:\", train_index, \"TEST:\", test_index)\\n   X_train, X_test = X[train_index], X[test_index]\\n   y_train, y_test = y[train_index], y[test_index]'"
      ]
     },
     "execution_count": 9,
     "metadata": {},
     "output_type": "execute_result"
    }
   ],
   "source": [
    "'''for train_index, test_index in kf.split(X):\n",
    "...    print(\"TRAIN:\", train_index, \"TEST:\", test_index)\n",
    "...    X_train, X_test = X[train_index], X[test_index]\n",
    "...    y_train, y_test = y[train_index], y[test_index]'''"
   ]
  },
  {
   "cell_type": "code",
   "execution_count": 24,
   "metadata": {},
   "outputs": [],
   "source": [
    "def cross_opt(train_X, test_X, train_Y, test_Y, kf):\n",
    "    errors_tr = []\n",
    "    errors_val = []\n",
    "    errors_test = []\n",
    "\n",
    "    i = 0\n",
    "    for train_index, test_index in kf.split(train_X,train_Y):\n",
    "        #print (train_index,test_index,len(train_X),len(train_Y))\n",
    "        \n",
    "        tr_X, val_X = train_X[train_index], train_X[test_index]\n",
    "        tr_Y, val_Y = train_Y[train_index], train_Y[test_index]\n",
    "        \n",
    "        k = k_opt(tr_X, val_X, tr_Y, val_Y, kf)\n",
    "        \n",
    "        neighb = KNeighborsRegressor(n_neighbors=k)\n",
    "        neighb.fit(tr_X, tr_Y)\n",
    "        \n",
    "        pred_tr = neighb.predict(tr_X)\n",
    "        pred_val = neighb.predict(val_X)\n",
    "        pred_test = neighb.predict(test_X)\n",
    "        \n",
    "        rmse_tr = find_rmse(tr_Y, pred_tr)\n",
    "        rmse_val = find_rmse(val_Y, pred_val)\n",
    "        rmse_test = find_rmse(test_Y, pred_test)\n",
    "        \n",
    "        errors_tr.append(rmse_tr)\n",
    "        errors_val.append(rmse_val)\n",
    "        errors_test.append(rmse_test)\n",
    "        i += 1\n",
    "    return errors_tr, errors_val, errors_test"
   ]
  },
  {
   "cell_type": "code",
   "execution_count": 25,
   "metadata": {},
   "outputs": [],
   "source": [
    "errors_tr, errors_val, errors_test = cross_opt(train_X.values, test_X.values, train_Y.values, test_Y.values, kf)"
   ]
  },
  {
   "cell_type": "code",
   "execution_count": 35,
   "metadata": {},
   "outputs": [
    {
     "name": "stdout",
     "output_type": "stream",
     "text": [
      "RMSE\n",
      "Fold 1\n",
      "  Train Error: 131.31679709770566 \n",
      "  Validation Error: 67.89323677657444 \n",
      "  Test Error: 72.49223406682952 \n",
      "\n",
      "Fold 2\n",
      "  Train Error: 105.48472638254317 \n",
      "  Validation Error: 103.83303002898451 \n",
      "  Test Error: 70.69771035896424 \n",
      "\n",
      "Fold 3\n",
      "  Train Error: 127.16362058387611 \n",
      "  Validation Error: 71.59118660840872 \n",
      "  Test Error: 72.43281576744066 \n",
      "\n",
      "Fold 4\n",
      "  Train Error: 133.04885418522025 \n",
      "  Validation Error: 61.58665764595445 \n",
      "  Test Error: 68.64650901538984 \n",
      "\n",
      "Fold 5\n",
      "  Train Error: 133.4774437873306 \n",
      "  Validation Error: 69.21785896717697 \n",
      "  Test Error: 72.65274943180059 \n",
      "\n"
     ]
    }
   ],
   "source": [
    "print('RMSE')\n",
    "for i in range(5):\n",
    "    print ('Fold',i+1)\n",
    "    print ('  Train Error:', errors_tr[i], '\\n  Validation Error:', \n",
    "           errors_val[i], '\\n  Test Error:', errors_test[i], '\\n')"
   ]
  },
  {
   "cell_type": "code",
   "execution_count": 18,
   "metadata": {},
   "outputs": [
    {
     "data": {
      "text/plain": [
       "numpy.ndarray"
      ]
     },
     "execution_count": 18,
     "metadata": {},
     "output_type": "execute_result"
    }
   ],
   "source": []
  },
  {
   "cell_type": "code",
   "execution_count": null,
   "metadata": {},
   "outputs": [],
   "source": []
  },
  {
   "cell_type": "markdown",
   "metadata": {},
   "source": [
    "# Q2.b)"
   ]
  },
  {
   "cell_type": "code",
   "execution_count": 36,
   "metadata": {},
   "outputs": [],
   "source": [
    "from sklearn import preprocessing"
   ]
  },
  {
   "cell_type": "code",
   "execution_count": 37,
   "metadata": {},
   "outputs": [
    {
     "data": {
      "text/plain": [
       "Index(['No', 'X1 transaction date', 'X2 house age',\n",
       "       'X3 distance to the nearest MRT station',\n",
       "       'X4 number of convenience stores', 'X5 latitude', 'X6 longitude',\n",
       "       'Y house price of unit area'],\n",
       "      dtype='object')"
      ]
     },
     "execution_count": 37,
     "metadata": {},
     "output_type": "execute_result"
    }
   ],
   "source": [
    "realdf = pd.read_csv('Real estate valuation data set.csv')\n",
    "realdf.keys()"
   ]
  },
  {
   "cell_type": "code",
   "execution_count": 41,
   "metadata": {},
   "outputs": [],
   "source": [
    "X = realdf.copy()\n",
    "y = realdf['Y house price of unit area']\n",
    "del X['Y house price of unit area']"
   ]
  },
  {
   "cell_type": "code",
   "execution_count": 42,
   "metadata": {},
   "outputs": [],
   "source": [
    "tmp = X.values #returns a numpy array\n",
    "min_max_scaler = preprocessing.MinMaxScaler()\n",
    "tmp_scaled = min_max_scaler.fit_transform(tmp)\n",
    "X_norm = pd.DataFrame(tmp_scaled)"
   ]
  },
  {
   "cell_type": "code",
   "execution_count": 44,
   "metadata": {},
   "outputs": [],
   "source": [
    "train_X_norm, test_X_norm, train_Y_norm, test_Y_norm = train_test_split(X_norm, y, test_size=0.2, random_state=42)"
   ]
  },
  {
   "cell_type": "code",
   "execution_count": 45,
   "metadata": {},
   "outputs": [],
   "source": [
    "err_tr_norm, err_val_norm, err_test_norm = cross_opt(train_X_norm.values, test_X_norm.values,\n",
    "                                                     train_Y_norm.values, test_Y_norm.values, kf)"
   ]
  },
  {
   "cell_type": "code",
   "execution_count": 46,
   "metadata": {},
   "outputs": [
    {
     "name": "stdout",
     "output_type": "stream",
     "text": [
      "RMSE for normalised dataset\n",
      "Fold 1\n",
      "  Train Error: 132.35352960914946 \n",
      "  Validation Error: 60.51579298001472 \n",
      "  Test Error: 66.34043714055554 \n",
      "\n",
      "Fold 2\n",
      "  Train Error: 106.03343057734197 \n",
      "  Validation Error: 113.16477367096176 \n",
      "  Test Error: 66.61618421975247 \n",
      "\n",
      "Fold 3\n",
      "  Train Error: 132.78120951399714 \n",
      "  Validation Error: 70.27521326897556 \n",
      "  Test Error: 63.07055414375237 \n",
      "\n",
      "Fold 4\n",
      "  Train Error: 130.3199401473159 \n",
      "  Validation Error: 67.95367245410655 \n",
      "  Test Error: 66.63665057609063 \n",
      "\n",
      "Fold 5\n",
      "  Train Error: 125.7419403204657 \n",
      "  Validation Error: 64.72105101467717 \n",
      "  Test Error: 69.1301992217905 \n",
      "\n"
     ]
    }
   ],
   "source": [
    "print('RMSE for normalised dataset')\n",
    "for i in range(5):\n",
    "    print ('Fold',i+1)\n",
    "    print ('  Train Error:', err_tr_norm[i], '\\n  Validation Error:', \n",
    "           err_val_norm[i], '\\n  Test Error:', err_test_norm[i], '\\n')"
   ]
  },
  {
   "cell_type": "code",
   "execution_count": 48,
   "metadata": {},
   "outputs": [
    {
     "name": "stdout",
     "output_type": "stream",
     "text": [
      "Difference of RMSE: Rmse - Rmse_norm \n",
      "\n",
      "Fold 1\n",
      "  Train Error: -1.0367325114438017 \n",
      "  Validation Error: 7.377443796559717 \n",
      "  Test Error: 6.151796926273988 \n",
      "\n",
      "Fold 2\n",
      "  Train Error: -0.5487041947988018 \n",
      "  Validation Error: -9.331743641977255 \n",
      "  Test Error: 4.081526139211775 \n",
      "\n",
      "Fold 3\n",
      "  Train Error: -5.61758893012103 \n",
      "  Validation Error: 1.3159733394331568 \n",
      "  Test Error: 9.36226162368829 \n",
      "\n",
      "Fold 4\n",
      "  Train Error: 2.72891403790436 \n",
      "  Validation Error: -6.367014808152099 \n",
      "  Test Error: 2.009858439299208 \n",
      "\n",
      "Fold 5\n",
      "  Train Error: 7.735503466864898 \n",
      "  Validation Error: 4.496807952499793 \n",
      "  Test Error: 3.522550210010081 \n",
      "\n"
     ]
    }
   ],
   "source": [
    "print('Difference of RMSE: Rmse - Rmse_norm \\n')\n",
    "for i in range(5):\n",
    "    print ('Fold',i+1)\n",
    "    print ('  Train Error:', errors_tr[i] - err_tr_norm[i], '\\n  Validation Error:', \n",
    "           errors_val[i] - err_val_norm[i], '\\n  Test Error:', errors_test[i] - err_test_norm[i], '\\n')"
   ]
  },
  {
   "cell_type": "markdown",
   "metadata": {},
   "source": [
    "In general, we see that for linear regression decision tree and random forest, the rmse is more, but, for ridge and lassoregression, the rmse is lesser."
   ]
  },
  {
   "cell_type": "code",
   "execution_count": null,
   "metadata": {},
   "outputs": [],
   "source": [
    " '''if i not in [0,1]:\n",
    "            tr_X = pd.concat([splits_X[0], splits_X[1]], ignore_index=True)\n",
    "            tr_Y = pd.concat([splits_Y[0], splits_Y[1]], ignore_index=True)\n",
    "            for j in range(2, len(splits_X)):\n",
    "                if j != i:\n",
    "                    tr_X = pd.concat([tr_X, splits_X[j]], ignore_index=True)\n",
    "                    tr_Y = pd.concat([tr_Y, splits_Y[j]], ignore_index=True)\n",
    "        elif i == 0:\n",
    "            tr_X = pd.concat([splits_X[1], splits_X[2]], ignore_index=True)\n",
    "            tr_Y = pd.concat([splits_Y[1], splits_Y[2]], ignore_index=True)\n",
    "            for j in range(3, len(splits_X)):\n",
    "                if j != i:\n",
    "                    tr_X = pd.concat([tr_X, splits_X[j]], ignore_index=True)\n",
    "                    tr_Y = pd.concat([tr_Y, splits_Y[j]], ignore_index=True)\n",
    "        else: #i=1\n",
    "            tr_X = pd.concat([splits_X[0], splits_X[2]], ignore_index=True)\n",
    "            tr_Y = pd.concat([splits_Y[0], splits_Y[2]], ignore_index=True)\n",
    "            for j in range(3, len(splits_X)):\n",
    "                if j != i:\n",
    "                    tr_X = pd.concat([tr_X, splits_X[j]], ignore_index=True)\n",
    "                    tr_Y = pd.concat([tr_Y, splits_Y[j]], ignore_index=True)'''"
   ]
  }
 ],
 "metadata": {
  "kernelspec": {
   "display_name": "Python 3",
   "language": "python",
   "name": "python3"
  },
  "language_info": {
   "codemirror_mode": {
    "name": "ipython",
    "version": 3
   },
   "file_extension": ".py",
   "mimetype": "text/x-python",
   "name": "python",
   "nbconvert_exporter": "python",
   "pygments_lexer": "ipython3",
   "version": "3.6.7"
  }
 },
 "nbformat": 4,
 "nbformat_minor": 2
}
