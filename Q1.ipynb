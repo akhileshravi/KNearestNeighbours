{
 "cells": [
  {
   "cell_type": "markdown",
   "metadata": {},
   "source": [
    "# Q1a"
   ]
  },
  {
   "cell_type": "markdown",
   "metadata": {},
   "source": [
    "1. a)\n",
    "Akhilesh Ravi"
   ]
  },
  {
   "cell_type": "code",
   "execution_count": 1,
   "metadata": {},
   "outputs": [],
   "source": [
    "import pandas as pd\n",
    "import numpy as np\n",
    "from math import sqrt"
   ]
  },
  {
   "cell_type": "code",
   "execution_count": 2,
   "metadata": {},
   "outputs": [],
   "source": [
    "from sklearn.model_selection import train_test_split"
   ]
  },
  {
   "cell_type": "code",
   "execution_count": 3,
   "metadata": {},
   "outputs": [],
   "source": [
    "def distance(point1, point2, distance_metric='Euclidean'):\n",
    "\n",
    "    if distance_metric == 'Euclidean':\n",
    "        d = 0\n",
    "        for i in range(len(point1)):\n",
    "            d += (point1[i] - point2[i]) ** 2\n",
    "        return sqrt(d)\n",
    "    elif distance_metric == 'Manhattan':\n",
    "        d = 0\n",
    "        for i in range(len(point1)):\n",
    "            d += abs(point1[i] - point2[i])\n",
    "        return d\n",
    "    elif distance_metric == 'Cosine':\n",
    "        c1 = c2 = c3 = 0\n",
    "        for i in range(len(point1)):\n",
    "            c1 += point1[i] * point2[i]\n",
    "            c2 += point1[i] ** 2\n",
    "            c3 += point2[i] ** 2\n",
    "        cos = abs(c1) / (sqrt(c2) * sqrt(c3))\n",
    "        return 1 - cos\n"
   ]
  },
  {
   "cell_type": "code",
   "execution_count": 4,
   "metadata": {},
   "outputs": [],
   "source": [
    "def neighbours(test_point, train_X, train_Y, K, distance_metric = 'Euclidean'):\n",
    "    \n",
    "    distances = []\n",
    "    for i in range(len(train_X)):\n",
    "        point = tuple(train_X.iloc[i])\n",
    "        d = distance(test_point, point, distance_metric)\n",
    "        if type(train_Y.iloc[i]) == pd.core.series.Series:\n",
    "            distances.append((d, point, tuple(train_Y.iloc[i])))\n",
    "        else:\n",
    "            distances.append((d, point, train_Y.iloc[i]))\n",
    "    distances.sort(key=lambda x: (x[0],x[1],x[2]))\n",
    "    return distances[:K]\n"
   ]
  },
  {
   "cell_type": "code",
   "execution_count": 5,
   "metadata": {},
   "outputs": [],
   "source": [
    "def predict(typ, k_nearest):\n",
    "    if typ == 'classification':\n",
    "        counts = {}\n",
    "        for neighbour in k_nearest:\n",
    "            cls = neighbour[-1]\n",
    "            if cls not in counts:\n",
    "                counts[cls] = 1\n",
    "            else:\n",
    "                counts[cls] += 1\n",
    "        lst = [(cls, counts[cls]) for cls in counts]\n",
    "        lst.sort(key = lambda x: (x[1], x[0]), reverse=True)\n",
    "        max_count = lst[0][1]\n",
    "        if len(lst)>1:\n",
    "            for i in range(len(lst)):\n",
    "                if lst[i][1] != max_count:\n",
    "                    break\n",
    "            pred_index = np.random.choice(range(i))\n",
    "            pred = lst[pred_index]\n",
    "        else:\n",
    "            pred = lst[0]\n",
    "        return pred[0]\n",
    "    elif typ == 'regression':\n",
    "        c = 0\n",
    "        for neighbour in k_nearest:\n",
    "            c += neighbour[-1][0]\n",
    "        return c/len(k_nearest)\n",
    "    "
   ]
  },
  {
   "cell_type": "code",
   "execution_count": 6,
   "metadata": {},
   "outputs": [],
   "source": [
    "def KNN_predict(typ, train_X, train_Y, test_X, K, distance_metric='Euclidean'):\n",
    "    pred = []\n",
    "    for i in range(len(test_X)):\n",
    "        point = tuple(test_X.iloc[i])\n",
    "        k_nearest = neighbours(point, train_X, train_Y, K, distance_metric)\n",
    "        out = predict(typ, k_nearest)\n",
    "        pred.append(out)\n",
    "    return pred"
   ]
  },
  {
   "cell_type": "code",
   "execution_count": 7,
   "metadata": {},
   "outputs": [],
   "source": [
    "def check_accuracy(typ, test_Y, predictions):\n",
    "    c = 0\n",
    "    if typ == 'classification':\n",
    "        if type(test_Y.iloc[0]) == pd.core.series.Series:\n",
    "            for i in range(len(predictions)):\n",
    "                if tuple(test_Y.iloc[i]) == predictions[i]:\n",
    "                    c += 1\n",
    "        else:\n",
    "            for i in range(len(predictions)):\n",
    "                if test_Y.iloc[i] == predictions[i]:\n",
    "                    c += 1\n",
    "        return c/len(predictions)\n",
    "    elif typ == 'regression':\n",
    "        e = 0\n",
    "        for i in range(len(predictions)):\n",
    "            e = (test_Y.iloc[i] - predictions[i]) ** 2\n",
    "        return math.sqrt(e/len(predictions))"
   ]
  },
  {
   "cell_type": "code",
   "execution_count": 8,
   "metadata": {},
   "outputs": [],
   "source": [
    "iris = pd.read_csv('iris.csv')"
   ]
  },
  {
   "cell_type": "code",
   "execution_count": 9,
   "metadata": {},
   "outputs": [],
   "source": [
    "X = iris.copy()\n",
    "y = X['species']\n",
    "del X['species']\n",
    "\n",
    "train_X, test_X, train_Y, test_Y = train_test_split(X, y, test_size=0.33, random_state=42)"
   ]
  },
  {
   "cell_type": "code",
   "execution_count": 10,
   "metadata": {},
   "outputs": [
    {
     "name": "stdout",
     "output_type": "stream",
     "text": [
      "Accuracy: 0.98\n"
     ]
    }
   ],
   "source": [
    "#Model 1: K = 1, Euclidean Distance\n",
    "predictions_1 = KNN_predict('classification', train_X, train_Y, test_X, 1, distance_metric='Euclidean')\n",
    "print('Accuracy:',check_accuracy('classification', test_Y, predictions_1))"
   ]
  },
  {
   "cell_type": "code",
   "execution_count": 11,
   "metadata": {},
   "outputs": [
    {
     "name": "stdout",
     "output_type": "stream",
     "text": [
      "Accuracy: 0.98\n"
     ]
    }
   ],
   "source": [
    "#Model 2: K = 2, Euclidean Distance\n",
    "predictions_2 = KNN_predict('classification', train_X, train_Y, test_X, 2, distance_metric='Euclidean')\n",
    "print('Accuracy:',check_accuracy('classification', test_Y, predictions_1))"
   ]
  },
  {
   "cell_type": "code",
   "execution_count": 12,
   "metadata": {},
   "outputs": [
    {
     "name": "stdout",
     "output_type": "stream",
     "text": [
      "Accuracy: 0.98\n"
     ]
    }
   ],
   "source": [
    "#Model 3: K = 1, Cosine Distance\n",
    "predictions_3 = KNN_predict('classification', train_X, train_Y, test_X, 1, distance_metric='Cosine')\n",
    "print('Accuracy:',check_accuracy('classification', test_Y, predictions_1))"
   ]
  },
  {
   "cell_type": "code",
   "execution_count": null,
   "metadata": {},
   "outputs": [],
   "source": []
  },
  {
   "cell_type": "markdown",
   "metadata": {},
   "source": [
    "# Q1b"
   ]
  },
  {
   "cell_type": "code",
   "execution_count": 13,
   "metadata": {},
   "outputs": [],
   "source": [
    "import time"
   ]
  },
  {
   "cell_type": "code",
   "execution_count": 14,
   "metadata": {},
   "outputs": [],
   "source": [
    "import matplotlib.pyplot as plt"
   ]
  },
  {
   "cell_type": "code",
   "execution_count": 27,
   "metadata": {},
   "outputs": [],
   "source": [
    "def timecheck(train_size, dim, r_state=42):\n",
    "    data_X = np.random.random((train_size,dim))\n",
    "    data_Y = np.sum(data_X, axis=1)\n",
    "    dict_X = {}\n",
    "    \n",
    "    #for i in range(len(data_X[0])):\n",
    "    #    dict_X['c'+str(i)] = data_X[:,i]\n",
    "    #dataset = pd.DataFrame({'Column1':data[:,0],'Column2':data[:,1]})\n",
    "    dataset_X = pd.DataFrame({'c'+str(i): data_X[:,i] for i in range(len(data_X[0]))})\n",
    "    \n",
    "    dataset_Y = pd.DataFrame({'Result':data_Y})\n",
    "    \n",
    "    train_X, test_X, train_Y, test_Y = train_test_split(dataset_X, dataset_Y, test_size=0.2, random_state=r_state)\n",
    "    \n",
    "    start = time.time()\n",
    "    predictions = KNN_predict('regression', train_X, train_Y, test_X, 2, distance_metric='Euclidean')\n",
    "    end = time.time()\n",
    "    \n",
    "    return end - start"
   ]
  },
  {
   "cell_type": "code",
   "execution_count": 16,
   "metadata": {},
   "outputs": [],
   "source": [
    "#Varying number of train examples\n",
    "l = list(range(25, 501, 25))\n",
    "times = [0]*20\n",
    "for i in range(20):\n",
    "    times[i] = timecheck(l[i], 2)"
   ]
  },
  {
   "cell_type": "code",
   "execution_count": 17,
   "metadata": {},
   "outputs": [
    {
     "data": {
      "text/plain": [
       "<matplotlib.collections.PathCollection at 0x7f3923e49198>"
      ]
     },
     "execution_count": 17,
     "metadata": {},
     "output_type": "execute_result"
    },
    {
     "data": {
      "image/png": "[encoded data removed]",
      "text/plain": [
       "<Figure size 432x288 with 1 Axes>"
      ]
     },
     "metadata": {
      "needs_background": "light"
     },
     "output_type": "display_data"
    }
   ],
   "source": [
    "plt.scatter(l,times)"
   ]
  },
  {
   "cell_type": "code",
   "execution_count": 32,
   "metadata": {},
   "outputs": [],
   "source": [
    "#Varying number of dimensions\n",
    "\n",
    "lim2 = 30\n",
    "l2 = list(range(1, lim2+1))\n",
    "times2 = [0]*lim2\n",
    "for i in range(lim2):\n",
    "    times2[i] = timecheck(100, l2[i], 0)"
   ]
  },
  {
   "cell_type": "code",
   "execution_count": 37,
   "metadata": {
    "scrolled": true
   },
   "outputs": [
    {
     "data": {
      "text/plain": [
       "<matplotlib.collections.PathCollection at 0x7f392188bc18>"
      ]
     },
     "execution_count": 37,
     "metadata": {},
     "output_type": "execute_result"
    },
    {
     "data": {
      "image/png": "[encoded data removed]",
      "text/plain": [
       "<Figure size 432x288 with 1 Axes>"
      ]
     },
     "metadata": {
      "needs_background": "light"
     },
     "output_type": "display_data"
    }
   ],
   "source": [
    "plt.scatter(l2[3:],times2[3:])"
   ]
  },
  {
   "cell_type": "markdown",
   "metadata": {
    "scrolled": true
   },
   "source": [
    "We can clearly see that time increases when the number of training samples increases. This is because for each test sample, more neighbours have to be checked.\n",
    "\n",
    "When we vary K, we see that there is an overall gradual increasing trend in time taken when K is increased. This is because for the each sample, we have to deal with more samples. However, we are not performing significantly more computations. Thus, the increase is only gradual.\n"
   ]
  },
  {
   "cell_type": "code",
   "execution_count": null,
   "metadata": {},
   "outputs": [],
   "source": [
    "#Varying number of dimensions\n",
    "\n",
    "lim2 = 30\n",
    "l2 = list(range(1, lim2+1))\n",
    "times2 = [0]*lim2\n",
    "for i in range(lim2):\n",
    "    times2[i] = timecheck(300, l2[i], 0)"
   ]
  },
  {
   "cell_type": "code",
   "execution_count": null,
   "metadata": {
    "collapsed": true
   },
   "outputs": [],
   "source": [
    "plt.scatter(l2,times2)"
   ]
  }
 ],
 "metadata": {
  "kernelspec": {
   "display_name": "Python 3",
   "language": "python",
   "name": "python3"
  },
  "language_info": {
   "codemirror_mode": {
    "name": "ipython",
    "version": 3
   },
   "file_extension": ".py",
   "mimetype": "text/x-python",
   "name": "python",
   "nbconvert_exporter": "python",
   "pygments_lexer": "ipython3",
   "version": "3.6.7"
  }
 },
 "nbformat": 4,
 "nbformat_minor": 2
}
